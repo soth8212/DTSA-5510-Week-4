{
 "cells": [
  {
   "cell_type": "code",
   "execution_count": 1,
   "id": "d3d1fcd8",
   "metadata": {
    "_cell_guid": "b1076dfc-b9ad-4769-8c92-a6c4dae69d19",
    "_uuid": "8f2839f25d086af736a60e9eeb907d3b93b6e0e5",
    "execution": {
     "iopub.execute_input": "2025-04-28T21:25:04.004264Z",
     "iopub.status.busy": "2025-04-28T21:25:04.003897Z",
     "iopub.status.idle": "2025-04-28T21:25:04.016624Z",
     "shell.execute_reply": "2025-04-28T21:25:04.015425Z"
    },
    "papermill": {
     "duration": 0.020035,
     "end_time": "2025-04-28T21:25:04.018708",
     "exception": false,
     "start_time": "2025-04-28T21:25:03.998673",
     "status": "completed"
    },
    "tags": []
   },
   "outputs": [
    {
     "name": "stdout",
     "output_type": "stream",
     "text": [
      "/kaggle/input/movies-data/movies.csv\n",
      "/kaggle/input/movies-data/users.csv\n",
      "/kaggle/input/movies-data/train.csv\n",
      "/kaggle/input/movies-data/test.csv\n"
     ]
    }
   ],
   "source": [
    "# Input data \n",
    "import os\n",
    "for dirname, _, filenames in os.walk('/kaggle/input'):\n",
    "    for filename in filenames:\n",
    "        print(os.path.join(dirname, filename))"
   ]
  },
  {
   "cell_type": "code",
   "execution_count": 2,
   "id": "048d4586",
   "metadata": {
    "execution": {
     "iopub.execute_input": "2025-04-28T21:25:04.027316Z",
     "iopub.status.busy": "2025-04-28T21:25:04.026982Z",
     "iopub.status.idle": "2025-04-28T21:25:07.079849Z",
     "shell.execute_reply": "2025-04-28T21:25:07.078123Z"
    },
    "papermill": {
     "duration": 3.05943,
     "end_time": "2025-04-28T21:25:07.082093",
     "exception": false,
     "start_time": "2025-04-28T21:25:04.022663",
     "status": "completed"
    },
    "tags": []
   },
   "outputs": [],
   "source": [
    "import pandas as pd\n",
    "import matplotlib.pyplot as plt\n",
    "import numpy as np\n",
    "from sklearn.decomposition import NMF\n",
    "from sklearn.metrics import accuracy_score, confusion_matrix, precision_score, recall_score, f1_score, ConfusionMatrixDisplay\n",
    "from scipy.sparse import coo_matrix, csr_matrix\n",
    "from collections import namedtuple\n",
    "\n"
   ]
  },
  {
   "cell_type": "code",
   "execution_count": 3,
   "id": "cb4a8f4e",
   "metadata": {
    "execution": {
     "iopub.execute_input": "2025-04-28T21:25:07.091089Z",
     "iopub.status.busy": "2025-04-28T21:25:07.090524Z",
     "iopub.status.idle": "2025-04-28T21:25:07.095224Z",
     "shell.execute_reply": "2025-04-28T21:25:07.094093Z"
    },
    "papermill": {
     "duration": 0.01097,
     "end_time": "2025-04-28T21:25:07.097030",
     "exception": false,
     "start_time": "2025-04-28T21:25:07.086060",
     "status": "completed"
    },
    "tags": []
   },
   "outputs": [],
   "source": [
    "file_path1 = '/kaggle/input/movies-data/users.csv'\n",
    "file_path2 = '/kaggle/input/movies-data/movies.csv'\n",
    "file_path3 ='/kaggle/input/movies-data/train.csv'\n",
    "file_path4 ='/kaggle/input/movies-data/test.csv'"
   ]
  },
  {
   "cell_type": "code",
   "execution_count": 4,
   "id": "2d7b9a2e",
   "metadata": {
    "execution": {
     "iopub.execute_input": "2025-04-28T21:25:07.105905Z",
     "iopub.status.busy": "2025-04-28T21:25:07.105494Z",
     "iopub.status.idle": "2025-04-28T21:25:07.599287Z",
     "shell.execute_reply": "2025-04-28T21:25:07.597990Z"
    },
    "papermill": {
     "duration": 0.500668,
     "end_time": "2025-04-28T21:25:07.601447",
     "exception": false,
     "start_time": "2025-04-28T21:25:07.100779",
     "status": "completed"
    },
    "tags": []
   },
   "outputs": [],
   "source": [
    "MV_users = pd.read_csv(file_path1)\n",
    "MV_movies =pd.read_csv(file_path2)\n",
    "train = pd.read_csv(file_path3)\n",
    "test = pd.read_csv(file_path4)"
   ]
  },
  {
   "cell_type": "code",
   "execution_count": 5,
   "id": "154779ad",
   "metadata": {
    "execution": {
     "iopub.execute_input": "2025-04-28T21:25:07.610001Z",
     "iopub.status.busy": "2025-04-28T21:25:07.609598Z",
     "iopub.status.idle": "2025-04-28T21:25:07.614259Z",
     "shell.execute_reply": "2025-04-28T21:25:07.613315Z"
    },
    "papermill": {
     "duration": 0.010962,
     "end_time": "2025-04-28T21:25:07.616064",
     "exception": false,
     "start_time": "2025-04-28T21:25:07.605102",
     "status": "completed"
    },
    "tags": []
   },
   "outputs": [],
   "source": [
    "from collections import namedtuple\n",
    "Data = namedtuple('Data', ['users','movies','train','test'])\n",
    "data = Data(MV_users, MV_movies, train, test)"
   ]
  },
  {
   "cell_type": "code",
   "execution_count": 6,
   "id": "2c7bb8b1",
   "metadata": {
    "execution": {
     "iopub.execute_input": "2025-04-28T21:25:07.624721Z",
     "iopub.status.busy": "2025-04-28T21:25:07.624321Z",
     "iopub.status.idle": "2025-04-28T21:25:07.636194Z",
     "shell.execute_reply": "2025-04-28T21:25:07.635140Z"
    },
    "papermill": {
     "duration": 0.018384,
     "end_time": "2025-04-28T21:25:07.638123",
     "exception": false,
     "start_time": "2025-04-28T21:25:07.619739",
     "status": "completed"
    },
    "tags": []
   },
   "outputs": [],
   "source": [
    "class RecSys():\n",
    "    def __init__(self,data):\n",
    "        self.data=data\n",
    "        self.allusers = list(self.data.users['uID'])\n",
    "        self.allmovies = list(self.data.movies['mID'])\n",
    "        self.genres = list(self.data.movies.columns.drop(['mID', 'title', 'year']))\n",
    "        self.mid2idx = dict(zip(self.data.movies.mID,list(range(len(self.data.movies)))))\n",
    "        self.uid2idx = dict(zip(self.data.users.uID,list(range(len(self.data.users)))))\n",
    "        self.Mr=self.rating_matrix()\n",
    "        self.Mm=None \n",
    "        self.sim=np.zeros((len(self.allmovies),len(self.allmovies)))\n",
    "        \n",
    "    def rating_matrix(self):\n",
    "        \"\"\"\n",
    "        Convert the rating matrix to numpy array of shape (#allusers,#allmovies)\n",
    "        \"\"\"\n",
    "        ind_movie = [self.mid2idx[x] for x in self.data.train.mID] \n",
    "        ind_user = [self.uid2idx[x] for x in self.data.train.uID]\n",
    "        rating_train = list(self.data.train.rating)\n",
    "        \n",
    "        return np.array(coo_matrix((rating_train, (ind_user, ind_movie)), shape=(len(self.allusers), len(self.allmovies))).toarray())\n",
    "\n",
    "    def rmse(self,yp):\n",
    "        yp[np.isnan(yp)]=3 #In case there is nan values in prediction, it will impute to 3.\n",
    "        yt=np.array(self.data.test.rating)\n",
    "        return np.sqrt(((yt-yp)**2).mean())\n",
    "    \n",
    "    def factorization(self):\n",
    "        \n",
    "\n",
    "        result = np.zeros((self.data.test.shape[0],))\n",
    "        \n",
    "        ratings = self.Mr.copy()\n",
    "        ratings[ratings==0] = 3\n",
    "        \n",
    "        nmf_model = NMF(n_components=25, random_state=0, init='random')\n",
    "        W = nmf_model.fit_transform(ratings)\n",
    "        H = nmf_model.components_\n",
    "        \n",
    "        predicted_ratings = np.dot(W, H)\n",
    "\n",
    "        scaler = MinMaxScaler(feature_range=(1, 5.5))\n",
    "        scaler.fit(predicted_ratings)\n",
    "        predicted_ratings = scaler.transform(predicted_ratings)\n",
    "        \n",
    "        for i in range(self.data.test.shape[0]):\n",
    "            pred = predicted_ratings[self.uid2idx[self.data.test[\"uID\"][i]]][self.mid2idx[self.data.test[\"mID\"][i]]]\n",
    "            result[i] = pred\n",
    "\n",
    "        #print(self.data.test)  \n",
    "        #print(result)\n",
    "        \n",
    "        return result"
   ]
  },
  {
   "cell_type": "code",
   "execution_count": 7,
   "id": "d66d507a",
   "metadata": {
    "execution": {
     "iopub.execute_input": "2025-04-28T21:25:07.646481Z",
     "iopub.status.busy": "2025-04-28T21:25:07.645985Z",
     "iopub.status.idle": "2025-04-28T21:26:59.875511Z",
     "shell.execute_reply": "2025-04-28T21:26:59.874419Z"
    },
    "papermill": {
     "duration": 112.236235,
     "end_time": "2025-04-28T21:26:59.877976",
     "exception": false,
     "start_time": "2025-04-28T21:25:07.641741",
     "status": "completed"
    },
    "tags": []
   },
   "outputs": [],
   "source": [
    "# Perform NMF on ratings matrix\n",
    "rs = RecSys(data)\n",
    "ratingsMatrix = rs.Mr\n",
    "model = NMF(n_components = 18, random_state = 42, init=\"nndsvda\", solver=\"mu\", beta_loss=\"kullback-leibler\", max_iter=1000).fit(ratingsMatrix)\n",
    "W = model.transform(ratingsMatrix)\n",
    "H = model.components_\n",
    "\n"
   ]
  },
  {
   "cell_type": "code",
   "execution_count": 8,
   "id": "07aa56ba",
   "metadata": {
    "execution": {
     "iopub.execute_input": "2025-04-28T21:26:59.886533Z",
     "iopub.status.busy": "2025-04-28T21:26:59.886108Z",
     "iopub.status.idle": "2025-04-28T21:26:59.924183Z",
     "shell.execute_reply": "2025-04-28T21:26:59.923099Z"
    },
    "papermill": {
     "duration": 0.044272,
     "end_time": "2025-04-28T21:26:59.925976",
     "exception": false,
     "start_time": "2025-04-28T21:26:59.881704",
     "status": "completed"
    },
    "tags": []
   },
   "outputs": [
    {
     "data": {
      "text/plain": [
       "(6040, 3883)"
      ]
     },
     "execution_count": 8,
     "metadata": {},
     "output_type": "execute_result"
    }
   ],
   "source": [
    "# Reconstruct user data as predictions from NMF\n",
    "X = model.inverse_transform(W)\n",
    "X.shape"
   ]
  },
  {
   "cell_type": "code",
   "execution_count": 9,
   "id": "259febdd",
   "metadata": {
    "execution": {
     "iopub.execute_input": "2025-04-28T21:26:59.934636Z",
     "iopub.status.busy": "2025-04-28T21:26:59.934298Z",
     "iopub.status.idle": "2025-04-28T21:27:11.919319Z",
     "shell.execute_reply": "2025-04-28T21:27:11.917331Z"
    },
    "papermill": {
     "duration": 11.991953,
     "end_time": "2025-04-28T21:27:11.921800",
     "exception": false,
     "start_time": "2025-04-28T21:26:59.929847",
     "status": "completed"
    },
    "tags": []
   },
   "outputs": [],
   "source": [
    "# Adapt the predict method of RecSys() to make predictions from the reconstructed user data, rather than the using the baseline / imputation methods.\n",
    "yhat = []\n",
    "n_test = len(rs.data.test)\n",
    "for i in range(n_test):\n",
    "    x = rs.data.test.iloc[i]\n",
    "    mid = x.mID\n",
    "    uid = x.uID\n",
    "    yhat.append(X[rs.uid2idx[uid],rs.mid2idx[mid]])"
   ]
  },
  {
   "cell_type": "code",
   "execution_count": 10,
   "id": "c86e3216",
   "metadata": {
    "execution": {
     "iopub.execute_input": "2025-04-28T21:27:11.930631Z",
     "iopub.status.busy": "2025-04-28T21:27:11.930285Z",
     "iopub.status.idle": "2025-04-28T21:27:11.972006Z",
     "shell.execute_reply": "2025-04-28T21:27:11.970409Z"
    },
    "papermill": {
     "duration": 0.048923,
     "end_time": "2025-04-28T21:27:11.974511",
     "exception": false,
     "start_time": "2025-04-28T21:27:11.925588",
     "status": "completed"
    },
    "tags": []
   },
   "outputs": [
    {
     "name": "stdout",
     "output_type": "stream",
     "text": [
      "The RMSE of the predictions made using NMF was: 2.8850867946900713\n"
     ]
    }
   ],
   "source": [
    "# Adapt the rmse method of RecSys()\n",
    "yhat = np.asarray(yhat)\n",
    "yhat[np.isnan(yhat)] = 3 \n",
    "labs = np.array(rs.data.test.rating)\n",
    "RMSE = np.sqrt(((labs-yhat)**2).mean())\n",
    "\n",
    "print(\"The RMSE of the predictions made using NMF was:\", RMSE)\n",
    "\n"
   ]
  },
  {
   "cell_type": "markdown",
   "id": "589a52be",
   "metadata": {
    "papermill": {
     "duration": 0.003382,
     "end_time": "2025-04-28T21:27:11.981590",
     "exception": false,
     "start_time": "2025-04-28T21:27:11.978208",
     "status": "completed"
    },
    "tags": []
   },
   "source": [
    "The Week 3 collaborative filtering models all achieved RMSEs below 1—even the simplest baseline of filling missing ratings with each user’s average performed markedly better than an RMSE of 2.885. Such a high error indicates serious shortcomings:\n",
    "\n",
    "Extreme sparsity: With so many missing entries, low-rank approximation methods struggle to recover the true underlying structure without large reconstruction errors.\n",
    "\n",
    "Low rating values: The small range of possible ratings magnifies random noise, further degrading factorization quality.\n",
    "\n",
    "KL-divergence loss limitations: Although KL-loss handles zero-heavy matrices better, it prevents the use of “nndsvd” initialization, which is ideal for sparse data and helps reduce error.\n",
    "\n",
    "\n",
    "\n",
    "To improve performance, consider pre-condensing the matrix before factorization—options include applying Truncated SVD or PCA to reduce dimensionality and noise prior to collaborative filtering."
   ]
  },
  {
   "cell_type": "code",
   "execution_count": null,
   "id": "125ae1f0",
   "metadata": {
    "papermill": {
     "duration": 0.003262,
     "end_time": "2025-04-28T21:27:11.988474",
     "exception": false,
     "start_time": "2025-04-28T21:27:11.985212",
     "status": "completed"
    },
    "tags": []
   },
   "outputs": [],
   "source": []
  }
 ],
 "metadata": {
  "kaggle": {
   "accelerator": "none",
   "dataSources": [
    {
     "datasetId": 7252936,
     "sourceId": 11568211,
     "sourceType": "datasetVersion"
    }
   ],
   "dockerImageVersionId": 30918,
   "isGpuEnabled": false,
   "isInternetEnabled": true,
   "language": "python",
   "sourceType": "notebook"
  },
  "kernelspec": {
   "display_name": "Python 3",
   "language": "python",
   "name": "python3"
  },
  "language_info": {
   "codemirror_mode": {
    "name": "ipython",
    "version": 3
   },
   "file_extension": ".py",
   "mimetype": "text/x-python",
   "name": "python",
   "nbconvert_exporter": "python",
   "pygments_lexer": "ipython3",
   "version": "3.10.12"
  },
  "papermill": {
   "default_parameters": {},
   "duration": 132.560242,
   "end_time": "2025-04-28T21:27:12.712999",
   "environment_variables": {},
   "exception": null,
   "input_path": "__notebook__.ipynb",
   "output_path": "__notebook__.ipynb",
   "parameters": {},
   "start_time": "2025-04-28T21:25:00.152757",
   "version": "2.6.0"
  }
 },
 "nbformat": 4,
 "nbformat_minor": 5
}
